{
 "nbformat": 4,
 "nbformat_minor": 0,
 "metadata": {
  "colab": {
   "provenance": []
  },
  "kernelspec": {
   "name": "python3",
   "display_name": "Python 3"
  },
  "language_info": {
   "name": "python"
  }
 },
 "cells": [
  {
   "cell_type": "markdown",
   "source": [
    "# Task 1 - State‑Vector Quantum Computer Simulator"
   ],
   "metadata": {
    "id": "amCtLo4upCq7"
   }
  },
  {
   "cell_type": "markdown",
   "source": [
    "## Task 1.1 - State‑vector representation"
   ],
   "metadata": {
    "id": "jUuFg2iWsiKI"
   }
  },
  {
   "cell_type": "code",
   "execution_count": null,
   "outputs": [],
   "source": [
    "# @title\n",
    "import numpy as np\n",
    "\n",
    "DTYPE = np.complex128\n",
    "\n",
    "def ket00():\n",
    "    \"\"\"Return |00> as a length‑4 complex column vector.\"\"\"\n",
    "    v = np.zeros(4, dtype=DTYPE)\n",
    "    v[0] = 1.0\n",
    "    return v\n",
    "\n",
    "def normalize(v: np.ndarray) -> np.ndarray:\n",
    "    n = np.linalg.norm(v)\n",
    "    if n == 0:\n",
    "        raise ValueError(\"Zero vector cannot be normalized.\")\n",
    "    return v / n\n",
    "\n",
    "# Example\n",
    "psi = ket00()\n",
    "assert np.isclose(np.linalg.norm(psi), 1.0)"
   ],
   "metadata": {
    "collapsed": false,
    "pycharm": {
     "name": "#%%\n"
    }
   }
  },
  {
   "cell_type": "markdown",
   "source": [
    "We use the computational basis ordered as ∣00⟩,∣01⟩,∣10⟩,∣11⟩\n",
    "mapping a bitstring 𝑏1, 𝑏2 to the integer index (2x𝑏1+𝑏2)), such that integer index of ∣00⟩ = 0, ∣01⟩ = 1, ∣10⟩ = 2, ∣11⟩ = 3."
   ],
   "metadata": {
    "collapsed": false,
    "pycharm": {
     "name": "#%% md\n"
    }
   }
  },
  {
   "cell_type": "markdown",
   "source": [
    "## Task 1.2 - Quantum gate implementation"
   ],
   "metadata": {
    "collapsed": false,
    "pycharm": {
     "name": "#%% md\n"
    }
   }
  },
  {
   "cell_type": "code",
   "execution_count": null,
   "outputs": [],
   "source": [
    "# @title\n",
    "# 1‑qubit and 2‑qubit gate definitions (matrix form)\n",
    "I2 = np.array([[1, 0], [0, 1]], dtype=DTYPE)\n",
    "H  = (1/np.sqrt(2)) * np.array([[1, 1], [1, -1]], dtype=DTYPE)\n",
    "\n",
    "# CNOT with control = q0 (MSB), target = q1 (LSB) in basis |q0 q1>\n",
    "CNOT_01 = np.array([\n",
    "    [1,0,0,0],\n",
    "    [0,1,0,0],\n",
    "    [0,0,0,1],\n",
    "    [0,0,1,0]\n",
    "], dtype=DTYPE)\n",
    "\n",
    "# Expand a 1‑qubit unitary U to a 2‑qubit operator acting on target qubit t in |q0 q1> order\n",
    "# t = 0 applies to q0 (MSB); t = 1 applies to q1 (LSB)\n",
    "\n",
    "def expand_1q(U: np.ndarray, t: int) -> np.ndarray:\n",
    "    if t == 0:   # act on q0 (MSB)\n",
    "        return np.kron(U, I2)\n",
    "    elif t == 1: # act on q1 (LSB)\n",
    "        return np.kron(I2, U)\n",
    "    else:\n",
    "        raise ValueError(\"target index must be 0 or 1\")\n",
    "\n",
    "# Apply a gate matrix to a state vector\n",
    "\n",
    "def apply(U: np.ndarray, psi: np.ndarray) -> np.ndarray:\n",
    "    return U @ psi\n",
    "\n",
    "# Quick unit tests\n",
    "assert np.allclose(H.conj().T @ H, I2)\n",
    "assert np.allclose(CNOT_01.conj().T @ CNOT_01, np.eye(4))"
   ],
   "metadata": {
    "collapsed": false,
    "pycharm": {
     "name": "#%%\n"
    }
   }
  },
  {
   "cell_type": "markdown",
   "source": [
    "The control and target convention for CNOT above is control = q0 (MSB), target = q1 (LSB), respectively. The basis is ordered as {∣00⟩,∣01⟩,∣10⟩,∣11⟩} with q0 as the MSB and q1 as the LSB. CNOT leaves the first two states (𝑞0=0) unchanged and swaps the last two (𝑞0=1), which exactly means “control on 𝑞0, flip target 𝑞1."
   ],
   "metadata": {
    "collapsed": false,
    "pycharm": {
     "name": "#%% md\n"
    }
   }
  },
  {
   "cell_type": "markdown",
   "source": [
    "## Task 1.3 - Circuit simulation: Bell state"
   ],
   "metadata": {
    "collapsed": false,
    "pycharm": {
     "name": "#%% md\n"
    }
   }
  },
  {
   "cell_type": "code",
   "execution_count": null,
   "outputs": [],
   "source": [
    "# @title\n",
    "def bell_state() -> np.ndarray:\n",
    "    psi = ket00()\n",
    "    # H on q0 (MSB), then CNOT(control=q0, target=q1)\n",
    "    psi = apply(expand_1q(H, t=0), psi)\n",
    "    psi = apply(CNOT_01, psi)\n",
    "    return normalize(psi)\n",
    "\n",
    "psi_bell = bell_state()\n",
    "print(\"Bell state vector:\", np.round(psi_bell, 6))\n",
    "# Expected amplitudes (up to a global phase): [1/√2, 0, 0, 1/√2]"
   ],
   "metadata": {
    "collapsed": false,
    "pycharm": {
     "name": "#%%\n"
    }
   }
  },
  {
   "cell_type": "markdown",
   "source": [
    "The output shows amplitudes of 0.707107 (5 s.f.)=~1/√2 for ∣00⟩ and ∣11⟩, with zero amplitude for ∣01⟩ and ∣10⟩. In words, this means the final state is an equal superposition of ∣00⟩ and ∣11⟩, which is exactly the expected result of the Bell state vector."
   ],
   "metadata": {
    "collapsed": false,
    "pycharm": {
     "name": "#%% md\n"
    }
   }
  },
  {
   "cell_type": "markdown",
   "source": [
    "## Task 1.4 - Output, verification, and circle‑plot comparison"
   ],
   "metadata": {
    "collapsed": false,
    "pycharm": {
     "name": "#%% md\n"
    }
   }
  },
  {
   "cell_type": "code",
   "execution_count": null,
   "outputs": [],
   "source": [
    "# @title\n",
    "import matplotlib.pyplot as plt\n",
    "\n",
    "BITSTR = [\"00\",\"01\",\"10\",\"11\"]\n",
    "\n",
    "def sample_bitstrings(psi: np.ndarray, shots: int = 10_000, seed: int = 7):\n",
    "    rng = np.random.default_rng(seed)\n",
    "    probs = np.abs(psi)**2\n",
    "    idx = rng.choice(4, size=shots, p=probs)\n",
    "    return idx\n",
    "\n",
    "# Sample from Bell state\n",
    "shots = 10_000\n",
    "idx = sample_bitstrings(psi_bell, shots=shots)\n",
    "\n",
    "# Make histogram\n",
    "counts = {b: int(np.sum(idx == i)) for i, b in enumerate(BITSTR)}\n",
    "print(counts)\n",
    "plt.bar(counts.keys(), counts.values())\n",
    "plt.xlabel(\"bitstring\"); plt.ylabel(\"counts\"); plt.title(\"Bell state measurement histogram\")\n",
    "plt.show()"
   ],
   "metadata": {
    "collapsed": false,
    "pycharm": {
     "name": "#%%\n"
    }
   }
  },
  {
   "cell_type": "markdown",
   "source": [
    "The Bell state has equal probability amplitudes for ∣00⟩ and ∣11⟩, ∣0.707∣^2=0.5. Considering the sampling probability, the results correspond to this probability, where the number of ∣00⟩ = 4983, similar to the number of ∣11⟩ = 5017, represened by almost equal bars in the histogram."
   ],
   "metadata": {
    "collapsed": false,
    "pycharm": {
     "name": "#%% md\n"
    }
   }
  },
  {
   "cell_type": "code",
   "execution_count": null,
   "outputs": [],
   "source": [
    "!pip install -q \"qiskit>=2.1\" qiskit-aer\n",
    "\n",
    "import math\n",
    "import numpy as np\n",
    "import matplotlib.pyplot as plt\n",
    "\n",
    "from qiskit import QuantumCircuit, transpile\n",
    "from qiskit_aer import Aer\n",
    "\n",
    "def statevector_from_aer(circ: QuantumCircuit) -> np.ndarray:\n",
    "    backend = Aer.get_backend(\"aer_simulator_statevector\")\n",
    "    tqc = transpile(circ, backend)\n",
    "    result = backend.run(tqc).result()\n",
    "    return np.asarray(result.get_statevector(tqc), dtype=np.complex128)\n",
    "\n",
    "class QubitSystem:\n",
    "    def __init__(self, statevector: np.ndarray, label: str = \"Qubit System\"):\n",
    "        self.label = label\n",
    "        self.set_statevector(statevector)\n",
    "\n",
    "    def set_statevector(self, statevector: np.ndarray):\n",
    "        sv = np.asarray(statevector, dtype=np.complex128).flatten()\n",
    "        if sv.ndim != 1:\n",
    "            raise ValueError(\"Statevector must be 1D.\")\n",
    "        n_states = sv.size\n",
    "        n_qubits = int(round(math.log2(n_states)))\n",
    "        if 2**n_qubits != n_states:\n",
    "            raise ValueError(\"Length must be a power of 2.\")\n",
    "        # Defensive normalization (harmless if already normalized)\n",
    "        norm = np.linalg.norm(sv)\n",
    "        if norm != 0 and not np.isclose(norm, 1.0):\n",
    "            sv = sv / norm\n",
    "\n",
    "        self.n_qubits = n_qubits\n",
    "        self.n_states = n_states\n",
    "        self.amps  = sv\n",
    "        self.prob  = np.abs(sv)**2\n",
    "        self.phase = np.angle(sv)\n",
    "\n",
    "    def viz_circle(self, max_cols: int = 8, figsize_scale: float = 2.3):\n",
    "        cols = max(1, min(max_cols, self.n_states))\n",
    "        rows = int(math.ceil(self.n_states / cols))\n",
    "\n",
    "        fig, axes = plt.subplots(\n",
    "            rows, cols,\n",
    "            figsize=(cols*figsize_scale, rows*(figsize_scale+0.2))\n",
    "        )\n",
    "        axes = np.atleast_2d(axes)\n",
    "\n",
    "        def bitstr(i: int, n: int) -> str:\n",
    "            return format(i, f\"0{n}b\")\n",
    "\n",
    "        for idx in range(rows * cols):\n",
    "            r, c = divmod(idx, cols)\n",
    "            ax = axes[r, c]\n",
    "            ax.set_aspect(\"equal\")\n",
    "            ax.set_xlim(0, 1); ax.set_ylim(0, 1)\n",
    "            ax.axis(\"off\")\n",
    "\n",
    "            if idx >= self.n_states:\n",
    "                ax.set_visible(False)\n",
    "                continue\n",
    "\n",
    "            # Outer reference circle\n",
    "            ax.add_patch(plt.Circle((0.5, 0.5), 0.48, fill=False, lw=1.0, alpha=0.5))\n",
    "\n",
    "            # Filled disk: radius ∝ sqrt(probability) so area ∝ probability\n",
    "            radius = 0.48 * np.sqrt(self.prob[idx])\n",
    "            ax.add_patch(plt.Circle((0.5, 0.5), radius, alpha=0.25))\n",
    "\n",
    "            # Phase arrow\n",
    "            angle = self.phase[idx]\n",
    "            L = 0.45\n",
    "            x2 = 0.5 + L * np.cos(angle)\n",
    "            y2 = 0.5 + L * np.sin(angle)\n",
    "            ax.arrow(0.5, 0.5, x2 - 0.5, y2 - 0.5,\n",
    "                     head_width=0.03, head_length=0.05, length_includes_head=True)\n",
    "\n",
    "            ax.set_title(f\"|{bitstr(idx, self.n_qubits)}⟩\", fontsize=10)\n",
    "\n",
    "        fig.suptitle(self.label, fontsize=12)\n",
    "        plt.tight_layout()\n",
    "        plt.show()\n",
    "\n",
    "qc = QuantumCircuit(2, name=\"Bell\")\n",
    "qc.h(0)\n",
    "qc.cx(0, 1)\n",
    "qc.save_statevector()     # Save state vector after all gates have been applied\n",
    "\n",
    "sv = statevector_from_aer(qc)\n",
    "QubitSystem(sv, label=\"Bell state (|00⟩+|11⟩)/√2\").viz_circle()"
   ],
   "metadata": {
    "collapsed": false,
    "pycharm": {
     "name": "#%%\n"
    }
   }
  },
  {
   "cell_type": "markdown",
   "source": [
    "The circle plot shows two dominant components ∣00⟩ and ∣11⟩ via the shaded regions (nonzero probability), while ∣01⟩ and ∣10⟩ have zero probability. Their relative phase is indicated by the arrows (here both pointing right, so same phase)."
   ],
   "metadata": {
    "collapsed": false,
    "pycharm": {
     "name": "#%% md\n"
    }
   }
  },
  {
   "cell_type": "markdown",
   "source": [
    "# Task 2 - State‑Vector SWAP Test"
   ],
   "metadata": {
    "collapsed": false,
    "pycharm": {
     "name": "#%% md\n"
    }
   }
  },
  {
   "cell_type": "code",
   "execution_count": null,
   "outputs": [],
   "source": [
    "import numpy as np\n",
    "\n",
    "# numeric dtype\n",
    "DTYPE = np.complex128\n",
    "\n",
    "# Hadamard gate\n",
    "H = (1/np.sqrt(2)) * np.array([[1, 1],\n",
    "                               [1, -1]], dtype=DTYPE)\n",
    "\n",
    "# helper: Kronecker product of a list of matrices\n",
    "def kron_all(mats):\n",
    "    out = mats[0]\n",
    "    for m in mats[1:]:\n",
    "        out = np.kron(out, m)\n",
    "    return out\n",
    "\n",
    "def expand_1q_n(U, t, n):\n",
    "    \"\"\"\n",
    "    Expand a 1-qubit unitary U to act on target qubit t in an n-qubit system.\n",
    "    Qubit ordering: [0,...,n-1] with 0 = leftmost (most significant).\n",
    "    \"\"\"\n",
    "    ops = []\n",
    "    for i in range(n):\n",
    "        if i == t:\n",
    "            ops.append(U)\n",
    "        else:\n",
    "            ops.append(np.eye(2, dtype=DTYPE))\n",
    "    return kron_all(ops)\n",
    "\n",
    "# Build CSWAP (8x8)\n",
    "# CSWAP = |0><0| ⊗ I_4 + |1><1| ⊗ SWAP_2\n",
    "P0 = np.array([[1,0],[0,0]], dtype=DTYPE)\n",
    "P1 = np.array([[0,0],[0,1]], dtype=DTYPE)\n",
    "\n",
    "SWAP_2 = np.array([\n",
    "    [1,0,0,0],\n",
    "    [0,0,1,0],\n",
    "    [0,1,0,0],\n",
    "    [0,0,0,1]\n",
    "], dtype=DTYPE)\n",
    "\n",
    "CSWAP = np.kron(P0, np.eye(4, dtype=DTYPE)) + np.kron(P1, SWAP_2)\n",
    "\n",
    "def swap_test(psi: np.ndarray, phi: np.ndarray):\n",
    "    psi = psi / np.linalg.norm(psi)\n",
    "    phi = phi / np.linalg.norm(phi)\n",
    "\n",
    "    # initial state |0>⊗|ψ>⊗|φ>\n",
    "    init = np.kron(np.array([1,0], dtype=DTYPE), np.kron(psi, phi))\n",
    "\n",
    "    # H on ancilla\n",
    "    U_Ho = expand_1q_n(H, t=0, n=3)\n",
    "    state = U_Ho @ init\n",
    "    # CSWAP\n",
    "    state = CSWAP @ state\n",
    "    # final H on ancilla\n",
    "    state = U_Ho @ state\n",
    "\n",
    "    probs = np.abs(state)**2\n",
    "    prob_1 = probs[4:].sum()   # ancilla=1 indices (MSB-first ordering)\n",
    "\n",
    "    F_hat = 1 - 2*prob_1\n",
    "    F_exact = float(np.abs(np.vdot(psi, phi))**2)\n",
    "\n",
    "    return prob_1, F_hat, F_exact\n",
    "\n",
    "# Define common states\n",
    "zero = np.array([1,0], dtype=DTYPE)\n",
    "one  = np.array([0,1], dtype=DTYPE)\n",
    "plus = (1/np.sqrt(2)) * np.array([1,1], dtype=DTYPE)\n",
    "\n",
    "# Run tests\n",
    "tests = [\n",
    "    (\"|ψ⟩=|φ⟩=|0⟩\", zero, zero),\n",
    "    (\"|ψ⟩=|0⟩, |φ⟩=|1⟩\", zero, one),\n",
    "    (\"|ψ⟩=|+⟩, |φ⟩=|0⟩\", plus, zero),\n",
    "]\n",
    "\n",
    "for label, psi, phi in tests:\n",
    "    prob_1, F_hat, F_exact = swap_test(psi, phi)\n",
    "    print(f\"{label} ⇒ F_exact={F_exact:.3f}, F_hat={F_hat:.3f}, P(output=1)={prob_1:.3f}\")"
   ],
   "metadata": {
    "collapsed": false,
    "pycharm": {
     "name": "#%%\n"
    }
   }
  },
  {
   "cell_type": "markdown",
   "source": [
    "The exact fidelity is computed directly from the inner product of the two states, while the swap test estimate is inferred from measurement outcomes on the ancilla qubit.\n",
    "\n",
    "Since\n",
    "|0> vs |0> → 𝐹hat≈1.000, 𝐹exact=1.000, (perfect overlap) </br>\n",
    "|0> vs |1> → 𝐹hat≈0.000, 𝐹exact=0.000, (orthogonal, no overlap) </br>\n",
    "|0> vs |+> → 𝐹hat≈0.500, 𝐹exact=0.500, (half overlap)\n",
    "\n",
    "the ancilla’s output distribution provides an operational way to estimate fidelity without having to compute the inner product directly.\n",
    "\n",
    "Furthermore, the smaller the probability of measuring 1 on the ancilla (output bit), the larger the fidelity between the two states."
   ],
   "metadata": {
    "collapsed": false,
    "pycharm": {
     "name": "#%% md\n"
    }
   }
  },
  {
   "cell_type": "markdown",
   "source": [
    "# Bonus Exercise - Quantum State Comparison with the Multiqubit SWAP Test"
   ],
   "metadata": {
    "collapsed": false,
    "pycharm": {
     "name": "#%% md\n"
    }
   }
  },
  {
   "cell_type": "markdown",
   "source": [
    "## Task B.1 - Basis vs |5>: design, simulate, evaluate"
   ],
   "metadata": {
    "collapsed": false,
    "pycharm": {
     "name": "#%% md\n"
    }
   }
  },
  {
   "cell_type": "code",
   "execution_count": null,
   "outputs": [],
   "source": [
    "!pip install pylatexenc matplotlib --quiet\n",
    "\n",
    "from qiskit import QuantumCircuit, QuantumRegister, ClassicalRegister, transpile\n",
    "from qiskit_aer import AerSimulator\n",
    "import numpy as np\n",
    "import math\n",
    "from statistics import mean, stdev\n",
    "import matplotlib.pyplot as plt\n",
    "from IPython.display import display\n",
    "\n",
    "# Utility: Random generator\n",
    "rng = np.random.default_rng()\n",
    "sim = AerSimulator()\n",
    "\n",
    "# Preparation helpers\n",
    "def prepare_basis_on(qc, reg, index):\n",
    "    \"\"\"Prepares a computational basis state |index> on given register.\"\"\"\n",
    "    bits = format(index, f'0{len(reg)}b')\n",
    "    for i, bit in enumerate(reversed(bits)):\n",
    "        if bit == '1':\n",
    "            qc.x(reg[i])\n",
    "    return bits\n",
    "\n",
    "def prepare_uniform_plus_on(qc, reg):\n",
    "    \"\"\"Prepares uniform superposition |+++...> on given register.\"\"\"\n",
    "    qc.h(reg)\n",
    "    return \"+\"\n",
    "\n",
    "# Building SWAP test circuit\n",
    "def swap_test_circuit(test_prep_fn):\n",
    "    \"\"\"\n",
    "    Builds and returns SWAP test circuit + test_bits for given test_prep_fn.\n",
    "    \"\"\"\n",
    "    # Define registers\n",
    "    control = QuantumRegister(1, 'control')\n",
    "    ref = QuantumRegister(3, 'ref')\n",
    "    test = QuantumRegister(3, 'test')\n",
    "    c = ClassicalRegister(1, 'c')\n",
    "\n",
    "    qc = QuantumCircuit(control, ref, test, c)\n",
    "\n",
    "    # Prepare reference state |101> (index=5)\n",
    "    qc.x(ref[0])\n",
    "    qc.x(ref[2])\n",
    "\n",
    "    # Prepare test state using supplied function\n",
    "    test_bits = test_prep_fn(qc, test)\n",
    "\n",
    "    # SWAP test sequence\n",
    "    qc.h(control[0])\n",
    "    for i in range(3):\n",
    "        qc.cx(control[0], ref[i])\n",
    "        qc.cx(control[0], test[i])\n",
    "        qc.cx(control[0], ref[i])\n",
    "    qc.h(control[0])\n",
    "\n",
    "    # Measure control qubit\n",
    "    qc.measure(control[0], c[0])\n",
    "\n",
    "    return qc, test_bits\n",
    "\n",
    "# Experiment execution\n",
    "def run_one(qc, shots, seed=None):\n",
    "    tqc = transpile(qc, sim)\n",
    "    job = sim.run(tqc, shots=shots, seed_simulator=seed)\n",
    "    res = job.result()\n",
    "    counts = res.get_counts()\n",
    "    p0 = counts.get('0', 0) / shots\n",
    "    return p0, counts, tqc\n",
    "\n",
    "def repeated_experiment(test_prep_fn, shots_list=[1000,2000,4000], repeats=30, test_label='test'):\n",
    "    results = {}\n",
    "    for s in shots_list:\n",
    "        F_list = []\n",
    "        for r in range(repeats):\n",
    "            qc, test_bits = swap_test_circuit(test_prep_fn)\n",
    "            p4, counts, tqc = run_one(qc, shots=s, seed=r+100)\n",
    "            F_hat = 2*p4 - 1\n",
    "            F_list.append(F_hat)\n",
    "        mu = mean(F_list)\n",
    "        se = (stdev(F_list) / math.sqrt(len(F_list))) if len(F_list) > 1 else 0.0\n",
    "        results[s] = {'mean_F': mu, 'stderr': se, 'raw': F_list}\n",
    "    return results\n",
    "\n",
    "# Defining test and preparation functions\n",
    "# Taking positive as k=5 and negative as k!=5\n",
    "reference_index = 5  # |101>\n",
    "negative_index = 3   # |011|\n",
    "\n",
    "def test_prep_same(qc, reg):\n",
    "    return prepare_basis_on(qc, reg, reference_index)\n",
    "\n",
    "def test_prep_diff(qc, reg):\n",
    "    return prepare_basis_on(qc, reg, negative_index)\n",
    "\n",
    "def test_prep_uniform(qc, reg):\n",
    "    return prepare_uniform_plus_on(qc, reg)\n",
    "\n",
    "# MEASUREMENT AND FIDELITY ESTIMATE\n",
    "qc, test_bits = swap_test_circuit(test_prep_diff)\n",
    "compiled = transpile(qc, sim)\n",
    "\n",
    "# Simulation run at several shot values (1k, 2k, 4k)\n",
    "result = sim.run(compiled, shots=1000).result()\n",
    "counts = result.get_counts()\n",
    "result1 = sim.run(compiled, shots=2000).result()\n",
    "counts1 = result1.get_counts()\n",
    "result2 = sim.run(compiled, shots=4000).result()\n",
    "counts2 = result2.get_counts()\n",
    "\n",
    "# Compute and display fidelity estimate\n",
    "p0 = counts.get('0', 0) / 1000\n",
    "fidelity_estimate = 2 * p0 - 1\n",
    "p1 = counts1.get('0',0) / 2000\n",
    "fidelity_estimate1 = 2 * p1 - 1\n",
    "p2 = counts2.get('0',0)/4000\n",
    "fidelity_estimate2 = 2 * p2 - 1\n",
    "\n",
    "# Output\n",
    "print(f\"\\nTest state bits: {test_bits}\")\n",
    "print(f\"For 1000 shots\")\n",
    "print(f\"P(output=1): {p0}\")\n",
    "print(f\"Counts: {counts}\")\n",
    "print(f\"Estimated fidelity: {fidelity_estimate:.3f}\")\n",
    "print(f\"For 2000 shots\")\n",
    "print(f\"P(output=1): {p1}\")\n",
    "print(f\"Counts: {counts1}\")\n",
    "print(f\"Estimated fidelity: {fidelity_estimate1:.3f}\")\n",
    "print(f\"For 4000 shots\")\n",
    "print(f\"P(output=1): {p2}\")\n",
    "print(f\"Counts: {counts2}\")\n",
    "print(f\"Estimated fidelity: {fidelity_estimate2:.3f}\")\n",
    "\n",
    "# Plot results for all 3 shot values\n",
    "fig, axs = plt.subplots(1, 3, figsize=(15, 4))\n",
    "\n",
    "# List of results\n",
    "shot_counts = [1000, 2000, 4000]\n",
    "counts_list = [counts, counts1, counts2]\n",
    "fidelities = [fidelity_estimate, fidelity_estimate1, fidelity_estimate2]\n",
    "\n",
    "for ax, shots, cts, fid in zip(axs, shot_counts, counts_list, fidelities):\n",
    "    ax.bar(cts.keys(), cts.values(), color='royalblue')\n",
    "    ax.set_title(f\"{shots} shots\\nFidelity ≈ {fid:.3f}\")\n",
    "    ax.set_xlabel(\"Measured Control Qubit\")\n",
    "    ax.set_ylabel(\"Counts\")\n",
    "    ax.set_ylim(0, max(cts.values()) * 1.2)\n",
    "    ax.grid(axis='y', linestyle=':', alpha=0.6)\n",
    "\n",
    "plt.suptitle(\"SWAP Test Results Across Different Shot Magnitudes\", fontsize=14)\n",
    "plt.tight_layout(rect=[0, 0, 1, 0.95])\n",
    "plt.show()\n",
    "\n",
    "# EVALUATION PROTOCOL\n",
    "shots_list = [1000, 2000, 4000]\n",
    "repeats = 30\n",
    "\n",
    "print(\"\\nRunning positive (same) trials...\")\n",
    "res_pos = repeated_experiment(test_prep_same, shots_list=shots_list, repeats=repeats, test_label='same')\n",
    "print(\"Running negative (different) trials...\")\n",
    "res_neg = repeated_experiment(test_prep_diff, shots_list=shots_list, repeats=repeats, test_label='diff')\n",
    "print(\"Running uniform superposition trials...\")\n",
    "res_uni = repeated_experiment(test_prep_uniform, shots_list=shots_list, repeats=repeats, test_label='uniform')\n",
    "\n",
    "# Print evaluation results\n",
    "print(\"\\nShots | mean F (pos) ± stderr | mean F (neg) ± stderr\")\n",
    "for s in shots_list:\n",
    "    mp = res_pos[s]['mean_F']; sp = res_pos[s]['stderr']\n",
    "    mn = res_neg[s]['mean_F']; sn = res_neg[s]['stderr']\n",
    "    print(f\"{s:5d} | {mp:0.6f} ± {sp:0.6f} | {mn:0.6f} ± {sn:0.6f}\")\n",
    "\n",
    "# Sanity check for Identical States L=R\n",
    "# Expected yield for mean F : 1\n",
    "print(\"\\nShots | mean F (uniform) ± stderr\")\n",
    "for s in shots_list:\n",
    "    mu = res_uni[s]['mean_F']; su = res_uni[s]['stderr']\n",
    "    print(f\"{s:5d} | {mu:0.6f} ± {su:0.6f}\")\n",
    "\n",
    "# Sanity check for Different basis states (|000> cs |111>)\n",
    "# Expected yield for mean F : ~0\n",
    "\n",
    "\n",
    "# Draw circuit\n",
    "fig = qc.draw(\"mpl\")\n",
    "display(fig)\n"
   ],
   "metadata": {
    "collapsed": false,
    "pycharm": {
     "name": "#%%\n"
    }
   }
  },
  {
   "cell_type": "markdown",
   "source": [
    "How you distributed control:\n",
    "- We used a single control qubit. This qubit controls all multi-qubit operations in the circuit.\n",
    "- For each SWAP of qubits, where we have 3 pairs of register qubits (ref0, test0 ; ref1,test1 ; ref2, test2), we implemented SWAP through a sequence of three cx (CNOT) gates. This distributes the control from the single ancilla qubit to each pair of register qubits.\n",
    "- We also used Hadamard gates on the control qubit for interference.\n",
    "\n",
    "How many two‑qubit/three‑qubit gates we used:\n",
    "For each of the three qubit pairs, we used three CNOTs.\n",
    "Total CNOTs: 3 pairs × 3 CNOTs = 9 two-qubit gates.\n",
    "\n",
    "Optimality:\n",
    "We used only CNOT and Hadamard gates, which we note often reduces errors on real hardware.\n",
    "\n",
    "How does the true fidelity differ from the estimated fidelity when we compare identical states? What is the effect of shot noise?:\n",
    "- When comparing two identical quantum states, the true fidelity expected is exactly 1. In this case, across the three shot values (1k, 2k and 4k), the mean fidelity remains consistent at 1, with 0 standard deviation. Therefore, shot noise in this case appears insignificant. However, we note that due to finite number of shots, the observed probability P(0) is expected to fluctuate around its true value, leading to an estimated fidelity that is close to, but not always exactly 1.\n",
    "\n",
    "How does the true fidelity differ from the estimated fidelity when we compare different states? What is the effect of shot noise?:\n",
    "- When comparing tow differnt quantum states, the true fidelity is expected ot be less than 1. Due to shot noise, the estimate is likely slightly above or below the true value for any given run. This is highlighted by the standard deviations for each mean fidelity recorded.\n",
    "- Shot noise introduces statistical uncertainty in the estimated, especially for smaller numbers of shots. This is reflected by our recorded standard deviations for the smaller 1k shots being larger than that of that for 2k shots and the standard deviations for 2k shots being larger than its that for the larger 4k shots.  \n",
    "\n",
    "\n"
   ],
   "metadata": {
    "collapsed": false,
    "pycharm": {
     "name": "#%% md\n"
    }
   }
  },
  {
   "cell_type": "markdown",
   "source": [
    "Assuming that the test state is in some unknown three-qubit computational basis state (while the reference state is still in the known state |5>), we will determine if the test state is in fact equal to the reference state by using the SWAP test.\n",
    "We will\n",
    "- prepare the reference state\n",
    "- prepare the test state\n",
    "- run the SWAP test circuit\n",
    "- if the test state is identical to the reference, the control qubit will be measured as 0, and\n",
    "- if different, the probability of measuring 0 drops.\n",
    "\n",
    "Would you need to sample multiple times from the quantum circuit, or would a single sample suffice? Remember that we assume that only the reference state is known:\n",
    "- A single measurement is not enough to reliably distinguish between identical and different states due to randomness and the probabilistic nature of measurement.\n",
    "- Sampling multiple times allows for a better estimation of the probability of measuring 0 on the control qubit, and this a better determination of fidelity between states.\n",
    "- As reflected by the experiment above, if th enumber of shots are smaller (and especially if states are more similar), there is a highly likelihood of stastistical error and therefore unreliabiltiy of the fidelity result obtained.\n",
    "\n",
    "Based on the sample outcome(s), what would be your \"decision rule\" to determine if the test state is the same as the reference state or not?:\n",
    "- My decision rule would be to run the SWAP circuit for at least 1000 or more shots, and compute the estimated fidelity with the formula provided in the assignment.\n",
    "- Where measurements yield 0, I can be confident that the test state is the same as the reference state.\n",
    "- However, keeping shot noise in mind, I will set a threshold for F, such that only if F is very close to 1, F willbe accepted as identical. If F is significantly less, the conclusion that the states are identical will be rejected."
   ],
   "metadata": {
    "collapsed": false,
    "pycharm": {
     "name": "#%% md\n"
    }
   }
  },
  {
   "cell_type": "markdown",
   "source": [
    "## Task B.2 - Introducing superposition"
   ],
   "metadata": {
    "collapsed": false,
    "pycharm": {
     "name": "#%% md\n"
    }
   }
  },
  {
   "cell_type": "code",
   "execution_count": null,
   "outputs": [],
   "source": [
    "def test_prep_superposed_left(qc, reg, index):\n",
    "    qc.h(reg[0])\n",
    "    bits = format(index, f'0{len(reg)}b')\n",
    "    for i, bit in enumerate(reversed(bits[1:])):\n",
    "        if bit == '1':\n",
    "            qc.x(reg[i+1])\n",
    "    return f\"superposed_left_{index}\"\n",
    "\n",
    "def test_prep_superposed_left_pos(qc, reg):\n",
    "    return test_prep_superposed_left(qc, reg, reference_index)\n",
    "\n",
    "def test_prep_superposed_left_neg(qc, reg):\n",
    "    return test_prep_superposed_left(qc, reg, negative_index)\n",
    "\n",
    "print(\"\\nRunning superposed left qubit (positive) trials...\")\n",
    "res_super_pos = repeated_experiment(test_prep_superposed_left_pos, shots_list=shots_list, repeats=repeats, test_label='superposed_pos')\n",
    "print(\"Running superposed left qubit (negative) trials...\")\n",
    "res_super_neg = repeated_experiment(test_prep_superposed_left_neg, shots_list=shots_list, repeats=repeats, test_label='superposed_neg')\n",
    "\n",
    "print(\"\\nShots | mean F (superposed pos) ± stderr | mean F (superposed neg) ± stderr\")\n",
    "for s in shots_list:\n",
    "    mp = res_super_pos[s]['mean_F']; sp = res_super_pos[s]['stderr']\n",
    "    mn = res_super_neg[s]['mean_F']; sn = res_super_neg[s]['stderr']\n",
    "    print(f\"{s:5d} | {mp:0.6f} ± {sp:0.6f} | {mn:0.6f} ± {sn:0.6f}\")\n"
   ],
   "metadata": {
    "collapsed": false,
    "pycharm": {
     "name": "#%%\n"
    }
   }
  },
  {
   "cell_type": "markdown",
   "source": [
    "Do some negatives (k≠5) show larger fidelity? If yes, explain why. Relate to how fidelity encodes overlap: superposition spreads amplitude, increasing chance overlap with |5>.\n",
    "- In our results above, both positive (k=5) and negative (K!=5) cases show identical fidelities. The standard deviation values also appear to overlap completely.\n",
    "- However, we note that it is possible for some negatives to show a larger estimated fidelity.\n",
    "- SWAP test fidelity quantifies the quantum state overlap as F=|<ref|test>|^2.\n",
    "- With superposition, the test state is a quantum mixture of two basis states. This spreads amplitude such that for e.g. instead of comparing |101> to |011>, we are comparing |101> to a state that's half |x11> and half |y11>.\n",
    "- If any half of the test state in superposition matches the reference, the observed fidelity can be larger for negatives.\n",
    "\n",
    "Would it still be possible to determine if k=5 using the strategy you proposed in B.1? Explain why, or why not.\n",
    "- My experiment in B.1 shows the fidelities for both positive and negative cases as 0, with overlapping standard errors, indicating no clear spearation between positive and negative cases, suggesting that k=5 cannot be determined with high confidence, because the results do not distinguish between the two cases."
   ],
   "metadata": {
    "collapsed": false,
    "pycharm": {
     "name": "#%% md\n"
    }
   }
  },
  {
   "cell_type": "markdown",
   "source": [
    "Reflection: what changed with superposition and one concrete improvement you would try next (e.g., alternate control distribution, or validating with exact inner products on the classical side).\n",
    "\n",
    "Introducing superposition in the test state caused the SWAP test fidelity to lose its discriminative power, because the amplitude was now shared across multiple basis states, reducing overlap with the reference and making positive and negative cases nearly indistinguishable. An immediate improvement would be to validate quantum circuit results by calculating the exact inner product classically, which provides a reference for true state overlap and helps assess the circuit’s decision effectiveness under superposition."
   ],
   "metadata": {
    "collapsed": false,
    "pycharm": {
     "name": "#%% md\n"
    }
   }
  },
  {
   "cell_type": "markdown",
   "source": [
    "# AI Assistance Disclosure\n",
    "\n",
    "Generally, ChatGPT was used to guide us in the debugging of code.\n",
    "\n",
    "**Per-Task Usage:**  \n",
    "- **Task 1:** ChatGPT helped with the interpretation of the printed output.\n",
    "\n",
    "Query: \"this is what is printed: Bell state vector: [0.707107+0.j 0. +0.j 0. +0.j 0.707107+0.j]\"\n",
    "\n",
    "Answer: \"Perfect ✅\n",
    "\n",
    "Your printed result\n",
    "\n",
    "[0.707107+0.j  0.      +0.j  0.      +0.j  0.707107+0.j]\n",
    "\n",
    "is exactly the state vector... since the first entry corresponds to\n",
    "∣00⟩, the last entry corresponds to ∣11⟩, and both have equal amplitude\n",
    "1/√2.\n",
    "\n",
    "So your implementation correctly produces the Bell state.\"\n",
    "\n",
    "- **Task 2:**\n",
    "\n",
    "Query: \"what is the output bit\"\n",
    "\n",
    "Answer: \"Good question — in the SWAP test, the output bit refers to the ancilla qubit (the extra qubit you add at the start of the circuit).\n",
    "\n",
    "How it works:...\"\n",
    "\n",
    "- **Bonus:** ChatGPT was used to help refine the presentation of outputs of the experiments conducted.\n",
    "\n",
    "**Validation:** AI outputs were tested in the notebook, adapted to match variable names and environment, and checked with documentation and sample data to ensure correctness.\n",
    "\n"
   ],
   "metadata": {
    "collapsed": false,
    "pycharm": {
     "name": "#%% md\n"
    }
   }
  },
  {
   "cell_type": "code",
   "execution_count": null,
   "outputs": [],
   "source": [],
   "metadata": {
    "collapsed": false,
    "pycharm": {
     "name": "#%%\n"
    }
   }
  },
  {
   "cell_type": "markdown",
   "source": [
    "Reflection: what changed with superposition and one concrete improvement you would try next (e.g., alternate control distribution, or validating with exact inner products on the classical side).\n",
    "\n",
    "Introducing superposition in the test state caused the SWAP test fidelity to lose its discriminative power, because the amplitude was now shared across multiple basis states, reducing overlap with the reference and making positive and negative cases nearly indistinguishable. An immediate improvement would be to validate quantum circuit results by calculating the exact inner product classically, which provides a reference for true state overlap and helps assess the circuit’s decision effectiveness under superposition."
   ],
   "metadata": {
    "id": "XVE0CmZozVVn"
   }
  },
  {
   "cell_type": "markdown",
   "source": [
    "# AI Assistance Disclosure\n",
    "\n",
    "Generally, ChatGPT was used to guide us in the debugging of code.\n",
    "\n",
    "**Per-Task Usage:**  \n",
    "- **Task 1:** ChatGPT helped with the interpretation of the printed output.\n",
    "\n",
    "Query: \"this is what is printed: Bell state vector: [0.707107+0.j 0. +0.j 0. +0.j 0.707107+0.j]\"\n",
    "\n",
    "Answer: \"Perfect ✅\n",
    "\n",
    "Your printed result\n",
    "\n",
    "[0.707107+0.j  0.      +0.j  0.      +0.j  0.707107+0.j]\n",
    "\n",
    "is exactly the state vector... since the first entry corresponds to\n",
    "∣00⟩, the last entry corresponds to ∣11⟩, and both have equal amplitude\n",
    "1/√2.\n",
    "\n",
    "So your implementation correctly produces the Bell state.\"\n",
    "\n",
    "- **Task 2:**\n",
    "\n",
    "Query: \"what is the output bit\"\n",
    "\n",
    "Answer: \"Good question — in the SWAP test, the output bit refers to the ancilla qubit (the extra qubit you add at the start of the circuit).\n",
    "\n",
    "How it works:...\"\n",
    "\n",
    "- **Bonus:** ChatGPT was used to help refine the presentation of outputs of the experiments conducted.\n",
    "\n",
    "**Validation:** AI outputs were tested in the notebook, adapted to match variable names and environment, and checked with documentation and sample data to ensure correctness.\n",
    "\n"
   ],
   "metadata": {
    "id": "WAgit6Wcpj8l"
   }
  },
  {
   "cell_type": "code",
   "source": [],
   "metadata": {
    "id": "6SxARFy6zGj4"
   },
   "execution_count": null,
   "outputs": []
  }
 ]
}