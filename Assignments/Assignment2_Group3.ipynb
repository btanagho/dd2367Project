{
 "nbformat": 4,
 "nbformat_minor": 0,
 "metadata": {
  "colab": {
   "provenance": []
  },
  "kernelspec": {
   "name": "python3",
   "display_name": "Python 3"
  },
  "language_info": {
   "name": "python"
  }
 },
 "cells": [
  {
   "cell_type": "markdown",
   "source": [
    "# Task 1 - State‑Vector Quantum Computer Simulator"
   ],
   "metadata": {
    "id": "amCtLo4upCq7",
    "pycharm": {
     "name": "#%% md\n"
    }
   }
  },
  {
   "cell_type": "markdown",
   "source": [
    "## Task 1.1 - State‑vector representation"
   ],
   "metadata": {
    "id": "jUuFg2iWsiKI",
    "pycharm": {
     "name": "#%% md\n"
    }
   }
  },
  {
   "cell_type": "code",
   "source": [
    "# @title\n",
    "import numpy as np\n",
    "DTYPE = np.complex128\n",
    "\n",
    "def ket00():\n",
    "    \"\"\"Return |00> as a length‑4 complex column vector.\"\"\"\n",
    "    v = np.zeros(4, dtype=DTYPE)\n",
    "    v[0] = 1.0\n",
    "    return v\n",
    "\n",
    "def normalize(v: np.ndarray) -> np.ndarray:\n",
    "    n = np.linalg.norm(v)\n",
    "    if n == 0:\n",
    "        raise ValueError(\"Zero vector cannot be normalized.\")\n",
    "    return v / n\n",
    "\n",
    "\n",
    "# Example\n",
    "psi = ket00()\n",
    "assert np.isclose(np.linalg.norm(psi), 1.0)"
   ],
   "metadata": {
    "id": "l72UBKV6pDqE",
    "pycharm": {
     "name": "#%%\n"
    }
   },
   "execution_count": null,
   "outputs": []
  },
  {
   "cell_type": "markdown",
   "source": [
    "We use the computational basis ordered as ∣00⟩,∣01⟩,∣10⟩,∣11⟩\n",
    "mapping a bitstring 𝑏1, 𝑏2 to the integer index (2x𝑏1+𝑏2)), such that integer index of ∣00⟩ = 0, ∣01⟩ = 1, ∣10⟩ = 2, ∣11⟩ = 3."
   ],
   "metadata": {
    "id": "xO7PnP23rQDa",
    "pycharm": {
     "name": "#%% md\n"
    }
   }
  },
  {
   "cell_type": "markdown",
   "source": [
    "## Task 1.2 - Quantum gate implementation"
   ],
   "metadata": {
    "id": "0KpLqrcSpJyW",
    "pycharm": {
     "name": "#%% md\n"
    }
   }
  },
  {
   "cell_type": "code",
   "source": [
    "# @title\n",
    "# 1‑qubit and 2‑qubit gate definitions (matrix form)\n",
    "I2 = np.array([[1, 0], [0, 1]], dtype=DTYPE)\n",
    "H  = (1/np.sqrt(2)) * np.array([[1, 1], [1, -1]], dtype=DTYPE)\n",
    "\n",
    "# CNOT with control = q0 (MSB), target = q1 (LSB) in basis |q0 q1>\n",
    "CNOT_01 = np.array([\n",
    "    [1,0,0,0],\n",
    "    [0,1,0,0],\n",
    "    [0,0,0,1],\n",
    "    [0,0,1,0]\n",
    "], dtype=DTYPE)\n",
    "\n",
    "# Expand a 1‑qubit unitary U to a 2‑qubit operator acting on target qubit t in |q0 q1> order\n",
    "# t = 0 applies to q0 (MSB); t = 1 applies to q1 (LSB)\n",
    "\n",
    "def expand_1q(U: np.ndarray, t: int) -> np.ndarray:\n",
    "    if t == 0:   # act on q0 (MSB)\n",
    "        return np.kron(U, I2)\n",
    "    elif t == 1: # act on q1 (LSB)\n",
    "        return np.kron(I2, U)\n",
    "    else:\n",
    "        raise ValueError(\"target index must be 0 or 1\")\n",
    "\n",
    "# Apply a gate matrix to a state vector\n",
    "\n",
    "def apply(U: np.ndarray, psi: np.ndarray) -> np.ndarray:\n",
    "    return U @ psi\n",
    "\n",
    "# Quick unit tests\n",
    "assert np.allclose(H.conj().T @ H, I2)\n",
    "assert np.allclose(CNOT_01.conj().T @ CNOT_01, np.eye(4))"
   ],
   "metadata": {
    "id": "N3JNuioBpMbg",
    "pycharm": {
     "name": "#%%\n"
    }
   },
   "execution_count": null,
   "outputs": []
  },
  {
   "cell_type": "markdown",
   "source": [
    "The control and target convention for CNOT above is control = q0 (MSB), target = q1 (LSB), respectively. The basis is ordered as {∣00⟩,∣01⟩,∣10⟩,∣11⟩} with q0 as the MSB and q1 as the LSB. CNOT leaves the first two states (𝑞0=0) unchanged and swaps the last two (𝑞0=1), which exactly means “control on 𝑞0, flip target 𝑞1."
   ],
   "metadata": {
    "id": "e2R8IRKmsmgG",
    "pycharm": {
     "name": "#%% md\n"
    }
   }
  },
  {
   "cell_type": "markdown",
   "source": [
    "## Task 1.3 - Circuit simulation: Bell state"
   ],
   "metadata": {
    "id": "5Qo0Kd6-pM3t",
    "pycharm": {
     "name": "#%% md\n"
    }
   }
  },
  {
   "cell_type": "code",
   "source": [
    "# @title\n",
    "def bell_state() -> np.ndarray:\n",
    "    psi = ket00()\n",
    "    # H on q0 (MSB), then CNOT(control=q0, target=q1)\n",
    "    psi = apply(expand_1q(H, t=0), psi)\n",
    "    psi = apply(CNOT_01, psi)\n",
    "    return normalize(psi)\n",
    "\n",
    "psi_bell = bell_state()\n",
    "print(\"Bell state vector:\", np.round(psi_bell, 6))\n",
    "# Expected amplitudes (up to a global phase): [1/√2, 0, 0, 1/√2]"
   ],
   "metadata": {
    "colab": {
     "base_uri": "https://localhost:8080/"
    },
    "id": "xDfLfR13pPJn",
    "outputId": "890aef57-1f8f-4660-e174-2c605505dea1",
    "pycharm": {
     "name": "#%%\n"
    }
   },
   "execution_count": null,
   "outputs": [
    {
     "output_type": "stream",
     "name": "stdout",
     "text": [
      "Bell state vector: [0.707107+0.j 0.      +0.j 0.      +0.j 0.707107+0.j]\n"
     ]
    }
   ]
  },
  {
   "cell_type": "markdown",
   "source": [
    "The output shows amplitudes of 0.707107 (5 s.f.)=~1/√2 for ∣00⟩ and ∣11⟩, with zero amplitude for ∣01⟩ and ∣10⟩. In words, this means the final state is an equal superposition of ∣00⟩ and ∣11⟩, which is exactly the expected result of the Bell state vector."
   ],
   "metadata": {
    "id": "ghXhWaussq5w",
    "pycharm": {
     "name": "#%% md\n"
    }
   }
  },
  {
   "cell_type": "markdown",
   "source": [
    "## Task 1.4 - Output, verification, and circle‑plot comparison"
   ],
   "metadata": {
    "id": "fIpe-2NCpPsV",
    "pycharm": {
     "name": "#%% md\n"
    }
   }
  },
  {
   "cell_type": "code",
   "source": [
    "# @title\n",
    "import matplotlib.pyplot as plt\n",
    "\n",
    "BITSTR = [\"00\",\"01\",\"10\",\"11\"]\n",
    "\n",
    "def sample_bitstrings(psi: np.ndarray, shots: int = 10_000, seed: int = 7):\n",
    "    rng = np.random.default_rng(seed)\n",
    "    probs = np.abs(psi)**2\n",
    "    idx = rng.choice(4, size=shots, p=probs)\n",
    "    return idx\n",
    "\n",
    "# Sample from Bell state\n",
    "shots = 10_000\n",
    "idx = sample_bitstrings(psi_bell, shots=shots)\n",
    "\n",
    "# Make histogram\n",
    "counts = {b: int(np.sum(idx == i)) for i, b in enumerate(BITSTR)}\n",
    "print(counts)\n",
    "plt.bar(counts.keys(), counts.values())\n",
    "plt.xlabel(\"bitstring\"); plt.ylabel(\"counts\"); plt.title(\"Bell state measurement histogram\")\n",
    "plt.show()"
   ],
   "metadata": {
    "colab": {
     "base_uri": "https://localhost:8080/",
     "height": 489
    },
    "id": "GTZuf4IWpR5p",
    "outputId": "0ae0a6c3-99bb-44b1-ea0f-28d9aa2c0ff1",
    "pycharm": {
     "name": "#%%\n"
    }
   },
   "execution_count": null,
   "outputs": [
    {
     "output_type": "stream",
     "name": "stdout",
     "text": [
      "{'00': 4983, '01': 0, '10': 0, '11': 5017}\n"
     ]
    },
    {
     "output_type": "display_data",
     "data": {
      "text/plain": [
       "<Figure size 640x480 with 1 Axes>"
      ],
      "image/png": "[encoded data removed]"
     },
     "metadata": {}
    }
   ]
  },
  {
   "cell_type": "markdown",
   "source": [
    "The Bell state has equal probability amplitudes for ∣00⟩ and ∣11⟩, ∣0.707∣^2=0.5. Considering the sampling probability, the results correspond to this probability, where the number of ∣00⟩ = 4983, similar to the number of ∣11⟩ = 5017, represened by almost equal bars in the histogram."
   ],
   "metadata": {
    "id": "jutgZlTrsv81",
    "pycharm": {
     "name": "#%% md\n"
    }
   }
  },
  {
   "cell_type": "code",
   "source": [
    "!pip install -q \"qiskit>=2.1\" qiskit-aer\n",
    "\n",
    "import math\n",
    "import numpy as np\n",
    "import matplotlib.pyplot as plt\n",
    "\n",
    "from qiskit import QuantumCircuit, transpile\n",
    "from qiskit_aer import Aer\n",
    "\n",
    "def statevector_from_aer(circ: QuantumCircuit) -> np.ndarray:\n",
    "    backend = Aer.get_backend(\"aer_simulator_statevector\")\n",
    "    tqc = transpile(circ, backend)\n",
    "    result = backend.run(tqc).result()\n",
    "    return np.asarray(result.get_statevector(tqc), dtype=np.complex128)\n",
    "\n",
    "class QubitSystem:\n",
    "    def __init__(self, statevector: np.ndarray, label: str = \"Qubit System\"):\n",
    "        self.label = label\n",
    "        self.set_statevector(statevector)\n",
    "\n",
    "    def set_statevector(self, statevector: np.ndarray):\n",
    "        sv = np.asarray(statevector, dtype=np.complex128).flatten()\n",
    "        if sv.ndim != 1:\n",
    "            raise ValueError(\"Statevector must be 1D.\")\n",
    "        n_states = sv.size\n",
    "        n_qubits = int(round(math.log2(n_states)))\n",
    "        if 2**n_qubits != n_states:\n",
    "            raise ValueError(\"Length must be a power of 2.\")\n",
    "        # Defensive normalization (harmless if already normalized)\n",
    "        norm = np.linalg.norm(sv)\n",
    "        if norm != 0 and not np.isclose(norm, 1.0):\n",
    "            sv = sv / norm\n",
    "\n",
    "        self.n_qubits = n_qubits\n",
    "        self.n_states = n_states\n",
    "        self.amps  = sv\n",
    "        self.prob  = np.abs(sv)**2\n",
    "        self.phase = np.angle(sv)\n",
    "\n",
    "    def viz_circle(self, max_cols: int = 8, figsize_scale: float = 2.3):\n",
    "        cols = max(1, min(max_cols, self.n_states))\n",
    "        rows = int(math.ceil(self.n_states / cols))\n",
    "\n",
    "        fig, axes = plt.subplots(\n",
    "            rows, cols,\n",
    "            figsize=(cols*figsize_scale, rows*(figsize_scale+0.2))\n",
    "        )\n",
    "        axes = np.atleast_2d(axes)\n",
    "\n",
    "        def bitstr(i: int, n: int) -> str:\n",
    "            return format(i, f\"0{n}b\")\n",
    "\n",
    "        for idx in range(rows * cols):\n",
    "            r, c = divmod(idx, cols)\n",
    "            ax = axes[r, c]\n",
    "            ax.set_aspect(\"equal\")\n",
    "            ax.set_xlim(0, 1); ax.set_ylim(0, 1)\n",
    "            ax.axis(\"off\")\n",
    "\n",
    "            if idx >= self.n_states:\n",
    "                ax.set_visible(False)\n",
    "                continue\n",
    "\n",
    "            # Outer reference circle\n",
    "            ax.add_patch(plt.Circle((0.5, 0.5), 0.48, fill=False, lw=1.0, alpha=0.5))\n",
    "\n",
    "            # Filled disk: radius ∝ sqrt(probability) so area ∝ probability\n",
    "            radius = 0.48 * np.sqrt(self.prob[idx])\n",
    "            ax.add_patch(plt.Circle((0.5, 0.5), radius, alpha=0.25))\n",
    "\n",
    "            # Phase arrow\n",
    "            angle = self.phase[idx]\n",
    "            L = 0.45\n",
    "            x2 = 0.5 + L * np.cos(angle)\n",
    "            y2 = 0.5 + L * np.sin(angle)\n",
    "            ax.arrow(0.5, 0.5, x2 - 0.5, y2 - 0.5,\n",
    "                     head_width=0.03, head_length=0.05, length_includes_head=True)\n",
    "\n",
    "            ax.set_title(f\"|{bitstr(idx, self.n_qubits)}⟩\", fontsize=10)\n",
    "\n",
    "        fig.suptitle(self.label, fontsize=12)\n",
    "        plt.tight_layout()\n",
    "        plt.show()\n",
    "\n",
    "qc = QuantumCircuit(2, name=\"Bell\")\n",
    "qc.h(0)\n",
    "qc.cx(0, 1)\n",
    "qc.save_statevector()     # Save state vector after all gates have been applied\n",
    "\n",
    "sv = statevector_from_aer(qc)\n",
    "QubitSystem(sv, label=\"Bell state (|00⟩+|11⟩)/√2\").viz_circle()"
   ],
   "metadata": {
    "colab": {
     "base_uri": "https://localhost:8080/",
     "height": 336
    },
    "id": "CXrOsL9j3tOU",
    "outputId": "d752aa7b-842f-43da-d017-25e1721c3878",
    "pycharm": {
     "name": "#%%\n"
    }
   },
   "execution_count": null,
   "outputs": [
    {
     "output_type": "stream",
     "name": "stdout",
     "text": [
      "\u001B[?25l   \u001B[90m━━━━━━━━━━━━━━━━━━━━━━━━━━━━━━━━━━━━━━━━\u001B[0m \u001B[32m0.0/8.0 MB\u001B[0m \u001B[31m?\u001B[0m eta \u001B[36m-:--:--\u001B[0m\r\u001B[2K   \u001B[91m━━━━━━━━━━━━━━━━\u001B[0m\u001B[90m╺\u001B[0m\u001B[90m━━━━━━━━━━━━━━━━━━━━━━━\u001B[0m \u001B[32m3.3/8.0 MB\u001B[0m \u001B[31m97.5 MB/s\u001B[0m eta \u001B[36m0:00:01\u001B[0m\r\u001B[2K   \u001B[91m━━━━━━━━━━━━━━━━━━━━━━━━━━━━━━━━━━━━━━━\u001B[0m\u001B[91m╸\u001B[0m \u001B[32m8.0/8.0 MB\u001B[0m \u001B[31m117.5 MB/s\u001B[0m eta \u001B[36m0:00:01\u001B[0m\r\u001B[2K   \u001B[90m━━━━━━━━━━━━━━━━━━━━━━━━━━━━━━━━━━━━━━━━\u001B[0m \u001B[32m8.0/8.0 MB\u001B[0m \u001B[31m73.9 MB/s\u001B[0m eta \u001B[36m0:00:00\u001B[0m\n",
      "\u001B[2K   \u001B[90m━━━━━━━━━━━━━━━━━━━━━━━━━━━━━━━━━━━━━━━━\u001B[0m \u001B[32m12.4/12.4 MB\u001B[0m \u001B[31m71.4 MB/s\u001B[0m eta \u001B[36m0:00:00\u001B[0m\n",
      "\u001B[2K   \u001B[90m━━━━━━━━━━━━━━━━━━━━━━━━━━━━━━━━━━━━━━━━\u001B[0m \u001B[32m2.2/2.2 MB\u001B[0m \u001B[31m57.5 MB/s\u001B[0m eta \u001B[36m0:00:00\u001B[0m\n",
      "\u001B[2K   \u001B[90m━━━━━━━━━━━━━━━━━━━━━━━━━━━━━━━━━━━━━━━━\u001B[0m \u001B[32m49.5/49.5 kB\u001B[0m \u001B[31m3.2 MB/s\u001B[0m eta \u001B[36m0:00:00\u001B[0m\n",
      "\u001B[?25h"
     ]
    },
    {
     "output_type": "display_data",
     "data": {
      "text/plain": [
       "<Figure size 920x250 with 4 Axes>"
      ],
      "image/png": "[encoded data removed]"
     },
     "metadata": {}
    }
   ]
  },
  {
   "cell_type": "markdown",
   "source": [
    "The circle plot shows two dominant components ∣00⟩ and ∣11⟩ via the shaded regions (nonzero probability), while ∣01⟩ and ∣10⟩ have zero probability. Their relative phase is indicated by the arrows (here both pointing right, so same phase)."
   ],
   "metadata": {
    "id": "wyMUaGR35UEg",
    "pycharm": {
     "name": "#%% md\n"
    }
   }
  },
  {
   "cell_type": "markdown",
   "source": [
    "# Task 2 - State‑Vector SWAP Test"
   ],
   "metadata": {
    "id": "HAoet-ujpSW-",
    "pycharm": {
     "name": "#%% md\n"
    }
   }
  },
  {
   "cell_type": "code",
   "source": [
    "import numpy as np\n",
    "\n",
    "# numeric dtype\n",
    "DTYPE = np.complex128\n",
    "\n",
    "# Hadamard gate\n",
    "H = (1/np.sqrt(2)) * np.array([[1, 1],\n",
    "                               [1, -1]], dtype=DTYPE)\n",
    "\n",
    "# helper: Kronecker product of a list of matrices\n",
    "def kron_all(mats):\n",
    "    out = mats[0]\n",
    "    for m in mats[1:]:\n",
    "        out = np.kron(out, m)\n",
    "    return out\n",
    "\n",
    "def expand_1q_n(U, t, n):\n",
    "    \"\"\"\n",
    "    Expand a 1-qubit unitary U to act on target qubit t in an n-qubit system.\n",
    "    Qubit ordering: [0,...,n-1] with 0 = leftmost (most significant).\n",
    "    \"\"\"\n",
    "    ops = []\n",
    "    for i in range(n):\n",
    "        if i == t:\n",
    "            ops.append(U)\n",
    "        else:\n",
    "            ops.append(np.eye(2, dtype=DTYPE))\n",
    "    return kron_all(ops)\n",
    "\n",
    "# Build CSWAP (8x8)\n",
    "# CSWAP = |0><0| ⊗ I_4 + |1><1| ⊗ SWAP_2\n",
    "P0 = np.array([[1,0],[0,0]], dtype=DTYPE)\n",
    "P1 = np.array([[0,0],[0,1]], dtype=DTYPE)\n",
    "\n",
    "SWAP_2 = np.array([\n",
    "    [1,0,0,0],\n",
    "    [0,0,1,0],\n",
    "    [0,1,0,0],\n",
    "    [0,0,0,1]\n",
    "], dtype=DTYPE)\n",
    "\n",
    "CSWAP = np.kron(P0, np.eye(4, dtype=DTYPE)) + np.kron(P1, SWAP_2)\n",
    "\n",
    "def swap_test(psi: np.ndarray, phi: np.ndarray):\n",
    "    psi = psi / np.linalg.norm(psi)\n",
    "    phi = phi / np.linalg.norm(phi)\n",
    "\n",
    "    # initial state |0>⊗|ψ>⊗|φ>\n",
    "    init = np.kron(np.array([1,0], dtype=DTYPE), np.kron(psi, phi))\n",
    "\n",
    "    # H on ancilla\n",
    "    U_Ho = expand_1q_n(H, t=0, n=3)\n",
    "    state = U_Ho @ init\n",
    "    # CSWAP\n",
    "    state = CSWAP @ state\n",
    "    # final H on ancilla\n",
    "    state = U_Ho @ state\n",
    "\n",
    "    probs = np.abs(state)**2\n",
    "    prob_1 = probs[4:].sum()   # ancilla=1 indices (MSB-first ordering)\n",
    "\n",
    "    F_hat = 1 - 2*prob_1\n",
    "    F_exact = float(np.abs(np.vdot(psi, phi))**2)\n",
    "\n",
    "    return prob_1, F_hat, F_exact\n",
    "\n",
    "# Define common states\n",
    "zero = np.array([1,0], dtype=DTYPE)\n",
    "one  = np.array([0,1], dtype=DTYPE)\n",
    "plus = (1/np.sqrt(2)) * np.array([1,1], dtype=DTYPE)\n",
    "\n",
    "# Run tests\n",
    "tests = [\n",
    "    (\"|ψ⟩=|φ⟩=|0⟩\", zero, zero),\n",
    "    (\"|ψ⟩=|0⟩, |φ⟩=|1⟩\", zero, one),\n",
    "    (\"|ψ⟩=|+⟩, |φ⟩=|0⟩\", plus, zero),\n",
    "]\n",
    "\n",
    "for label, psi, phi in tests:\n",
    "    prob_1, F_hat, F_exact = swap_test(psi, phi)\n",
    "    print(f\"{label} ⇒ F_exact={F_exact:.3f}, F_hat={F_hat:.3f}, P(output=1)={prob_1:.3f}\")"
   ],
   "metadata": {
    "colab": {
     "base_uri": "https://localhost:8080/"
    },
    "id": "3AkHlG4rpVxW",
    "outputId": "3c5b9188-7001-4b3a-8389-2d1e3189635f",
    "pycharm": {
     "name": "#%%\n"
    }
   },
   "execution_count": null,
   "outputs": [
    {
     "output_type": "stream",
     "name": "stdout",
     "text": [
      "|ψ⟩=|φ⟩=|0⟩ ⇒ F_exact=1.000, F_hat=1.000, P(output=1)=0.000\n",
      "|ψ⟩=|0⟩, |φ⟩=|1⟩ ⇒ F_exact=0.000, F_hat=0.000, P(output=1)=0.500\n",
      "|ψ⟩=|+⟩, |φ⟩=|0⟩ ⇒ F_exact=0.500, F_hat=0.500, P(output=1)=0.250\n"
     ]
    }
   ]
  },
  {
   "cell_type": "markdown",
   "source": [
    "The exact fidelity is computed directly from the inner product of the two states, while the swap test estimate is inferred from measurement outcomes on the ancilla qubit.\n",
    "\n",
    "Since\n",
    "|0> vs |0> → 𝐹hat≈1.000, 𝐹exact=1.000, (perfect overlap) </br>\n",
    "|0> vs |1> → 𝐹hat≈0.000, 𝐹exact=0.000, (orthogonal, no overlap) </br>\n",
    "|0> vs |+> → 𝐹hat≈0.500, 𝐹exact=0.500, (half overlap)\n",
    "\n",
    "the ancilla’s output distribution provides an operational way to estimate fidelity without having to compute the inner product directly.\n",
    "\n",
    "Furthermore, the smaller the probability of measuring 1 on the ancilla (output bit), the larger the fidelity between the two states."
   ],
   "metadata": {
    "id": "Z_hG7rscdySN",
    "pycharm": {
     "name": "#%% md\n"
    }
   }
  },
  {
   "cell_type": "markdown",
   "source": [
    "# Bonus Exercise - Quantum State Comparison with the Multiqubit SWAP Test"
   ],
   "metadata": {
    "id": "mL--jRWnpWQj",
    "pycharm": {
     "name": "#%% md\n"
    }
   }
  },
  {
   "cell_type": "markdown",
   "source": [
    "## Task B.1 - Basis vs |5>: design, simulate, evaluate"
   ],
   "metadata": {
    "id": "WN100B1VpaCV",
    "pycharm": {
     "name": "#%% md\n"
    }
   }
  },
  {
   "cell_type": "code",
   "source": [
    "import numpy as np\n",
    "from qiskit import QuantumCircuit, QuantumRegister, ClassicalRegister, transpile\n",
    "from qiskit_aer import AerSimulator\n",
    "\n",
    "# State preparation helpers\n",
    "def prepare_basis(qc, qreg, k):\n",
    "    \"\"\"Prepare 3-qubit basis state |k> on register qreg (MSB-first).\"\"\"\n",
    "    bits = [(k >> i) & 1 for i in reversed(range(3))]\n",
    "    for i, b in enumerate(bits):\n",
    "        if b == 1:\n",
    "            qc.x(qreg[i])\n",
    "\n",
    "\n",
    "# Controlled swap (manual decomposition)\n",
    "def cswap_decomp(qc, ctrl, a, b):\n",
    "    qc.cx(b, a)\n",
    "    qc.ccx(ctrl, a, b)\n",
    "    qc.cx(b, a)\n",
    "\n",
    "\n",
    "# Build SWAP test circuit\n",
    "def build_swap3(ref_k, test_k):\n",
    "    q_out = QuantumRegister(1, \"out\")\n",
    "    q_ref = QuantumRegister(3, \"ref\")\n",
    "    q_test = QuantumRegister(3, \"test\")\n",
    "    c_out = ClassicalRegister(1, \"c_out\")\n",
    "\n",
    "    qc = QuantumCircuit(q_out, q_ref, q_test, c_out)\n",
    "    prepare_basis(qc, q_ref, ref_k)\n",
    "    prepare_basis(qc, q_test, test_k)\n",
    "\n",
    "\n",
    "    qc.h(q_out[0])\n",
    "    for i in range(3):\n",
    "        cswap_decomp(qc, q_out[0], q_ref[i], q_test[i])\n",
    "    qc.h(q_out[0])\n",
    "    qc.measure(q_out[0], c_out[0])\n",
    "    return qc\n",
    "\n",
    "# Run experiment\n",
    "def run_swap3(ref_k, test_k, shots=2000, repeats=20):\n",
    "    sim = AerSimulator()\n",
    "    Fhats, P1s = [], []\n",
    "    for _ in range(repeats):\n",
    "        qc = build_swap3(ref_k, test_k)\n",
    "        job = sim.run(transpile(qc, sim), shots=shots)\n",
    "        counts = job.result().get_counts()\n",
    "        p1 = counts.get('1', 0) / shots\n",
    "        Fhat = 1 - 2*p1\n",
    "        P1s.append(p1); Fhats.append(Fhat)\n",
    "    return np.mean(Fhats), np.std(Fhats, ddof=1)/np.sqrt(repeats), np.mean(P1s), np.std(P1s, ddof=1)/np.sqrt(repeats)\n",
    "\n",
    "\n",
    "run_swap3\n"
   ],
   "metadata": {
    "id": "TdOEdl54pgLH",
    "colab": {
     "base_uri": "https://localhost:8080/",
     "height": 176
    },
    "outputId": "9cacb60b-b44e-4af9-fddd-374852f84618",
    "pycharm": {
     "name": "#%%\n"
    }
   },
   "execution_count": null,
   "outputs": [
    {
     "output_type": "error",
     "ename": "NameError",
     "evalue": "name 'run_swap' is not defined",
     "traceback": [
      "\u001B[0;31m---------------------------------------------------------------------------\u001B[0m",
      "\u001B[0;31mNameError\u001B[0m                                 Traceback (most recent call last)",
      "\u001B[0;32m/tmp/ipython-input-3999720028.py\u001B[0m in \u001B[0;36m<cell line: 0>\u001B[0;34m()\u001B[0m\n\u001B[1;32m     52\u001B[0m \u001B[0;34m\u001B[0m\u001B[0m\n\u001B[1;32m     53\u001B[0m \u001B[0;34m\u001B[0m\u001B[0m\n\u001B[0;32m---> 54\u001B[0;31m \u001B[0mrun_swap\u001B[0m\u001B[0;34m\u001B[0m\u001B[0;34m\u001B[0m\u001B[0m\n\u001B[0m",
      "\u001B[0;31mNameError\u001B[0m: name 'run_swap' is not defined"
     ]
    }
   ]
  },
  {
   "cell_type": "markdown",
   "source": [
    "How we distributed control:\n",
    "\n",
    "How many two‑qubit/three‑qubit gates we used:"
   ],
   "metadata": {
    "id": "QHh5auozHbrN",
    "pycharm": {
     "name": "#%% md\n"
    }
   }
  },
  {
   "cell_type": "code",
   "source": [
    "from qiskit import QuantumCircuit, Aer, transpile\n",
    "from qiskit.visualization import plot_histogram\n",
    "from numpy.random import default_rng\n",
    "import numpy as np\n",
    "\n",
    "# Create the 3-qubit SWAP test circuit\n",
    "def swap_test_3qubit(reference_state, test_state):\n",
    "    # reference_state and test_state are binary strings like '101'\n",
    "    qc = QuantumCircuit(7, 1)  # 1 control + 3 ref + 3 test\n",
    "\n",
    "    # Prepare reference state\n",
    "    for i, bit in enumerate(reference_state):\n",
    "        if bit == '1':\n",
    "            qc.x(i+1)\n",
    "\n",
    "    # Prepare test state\n",
    "    for i, bit in enumerate(test_state):\n",
    "        if bit == '1':\n",
    "            qc.x(i+4)\n",
    "\n",
    "    # Apply H gate to control\n",
    "    qc.h(0)\n",
    "\n",
    "    # Controlled SWAP across pairs\n",
    "    for i in range(3):\n",
    "        qc.cswap(0, i+1, i+4)\n",
    "\n",
    "    # Apply final H to control\n",
    "    qc.h(0)\n",
    "\n",
    "    # Measure control qubit\n",
    "    qc.measure(0, 0)\n",
    "\n",
    "    return qc\n",
    "\n",
    "# Simulation helper\n",
    "def run_swap_test(reference_state='000', test_state='000', shots=1024):\n",
    "    qc = swap_test_3qubit(reference_state, test_state)\n",
    "    simulator = Aer.get_backend('aer_simulator')\n",
    "    tqc = transpile(qc, simulator)\n",
    "    result = simulator.run(tqc, shots=shots).result()\n",
    "    counts = result.get_counts()\n",
    "\n",
    "    # Estimate fidelity from P(0)\n",
    "    p0 = counts.get('0', 0) / shots\n",
    "    fidelity_est = 2 * p0 - 1\n",
    "    return fidelity_est, counts, qc\n",
    "\n",
    "# Run tests\n",
    "if __name__ == '__main__':\n",
    "    rng = default_rng()\n",
    "\n",
    "    ref_state = '101'\n",
    "    test_state_same = '101'\n",
    "    test_state_diff = format(rng.integers(0, 8), '03b')\n",
    "\n",
    "    fid_same, counts_same, qc_same = run_swap_test(ref_state, test_state_same)\n",
    "    fid_diff, counts_diff, qc_diff = run_swap_test(ref_state, test_state_diff)\n",
    "\n",
    "    print(f\"Reference: {ref_state}\\n\")\n",
    "    print(f\"Test (same): {test_state_same}, Fidelity ≈ {fid_same:.3f}, Counts: {counts_same}\")\n",
    "    print(f\"Test (diff): {test_state_diff}, Fidelity ≈ {fid_diff:.3f}, Counts: {counts_diff}\")\n"
   ],
   "metadata": {
    "colab": {
     "base_uri": "https://localhost:8080/",
     "height": 384
    },
    "id": "pSqSyOTEe-H7",
    "outputId": "1731892c-d02c-4155-f4be-7f1de6faace9",
    "pycharm": {
     "name": "#%%\n"
    }
   },
   "execution_count": null,
   "outputs": [
    {
     "output_type": "error",
     "ename": "ImportError",
     "evalue": "cannot import name 'Aer' from 'qiskit' (/usr/local/lib/python3.12/dist-packages/qiskit/__init__.py)",
     "traceback": [
      "\u001B[0;31m---------------------------------------------------------------------------\u001B[0m",
      "\u001B[0;31mImportError\u001B[0m                               Traceback (most recent call last)",
      "\u001B[0;32m/tmp/ipython-input-2442175815.py\u001B[0m in \u001B[0;36m<cell line: 0>\u001B[0;34m()\u001B[0m\n\u001B[0;32m----> 1\u001B[0;31m \u001B[0;32mfrom\u001B[0m \u001B[0mqiskit\u001B[0m \u001B[0;32mimport\u001B[0m \u001B[0mQuantumCircuit\u001B[0m\u001B[0;34m,\u001B[0m \u001B[0mAer\u001B[0m\u001B[0;34m,\u001B[0m \u001B[0mtranspile\u001B[0m\u001B[0;34m\u001B[0m\u001B[0;34m\u001B[0m\u001B[0m\n\u001B[0m\u001B[1;32m      2\u001B[0m \u001B[0;32mfrom\u001B[0m \u001B[0mqiskit\u001B[0m\u001B[0;34m.\u001B[0m\u001B[0mvisualization\u001B[0m \u001B[0;32mimport\u001B[0m \u001B[0mplot_histogram\u001B[0m\u001B[0;34m\u001B[0m\u001B[0;34m\u001B[0m\u001B[0m\n\u001B[1;32m      3\u001B[0m \u001B[0;32mfrom\u001B[0m \u001B[0mnumpy\u001B[0m\u001B[0;34m.\u001B[0m\u001B[0mrandom\u001B[0m \u001B[0;32mimport\u001B[0m \u001B[0mdefault_rng\u001B[0m\u001B[0;34m\u001B[0m\u001B[0;34m\u001B[0m\u001B[0m\n\u001B[1;32m      4\u001B[0m \u001B[0;32mimport\u001B[0m \u001B[0mnumpy\u001B[0m \u001B[0;32mas\u001B[0m \u001B[0mnp\u001B[0m\u001B[0;34m\u001B[0m\u001B[0;34m\u001B[0m\u001B[0m\n\u001B[1;32m      5\u001B[0m \u001B[0;34m\u001B[0m\u001B[0m\n",
      "\u001B[0;31mImportError\u001B[0m: cannot import name 'Aer' from 'qiskit' (/usr/local/lib/python3.12/dist-packages/qiskit/__init__.py)",
      "",
      "\u001B[0;31m---------------------------------------------------------------------------\u001B[0;32m\nNOTE: If your import is failing due to a missing package, you can\nmanually install dependencies using either !pip or !apt.\n\nTo view examples of installing some common dependencies, click the\n\"Open Examples\" button below.\n\u001B[0;31m---------------------------------------------------------------------------\u001B[0m\n"
     ],
     "errorDetails": {
      "actions": [
       {
        "action": "open_url",
        "actionText": "Open Examples",
        "url": "/notebooks/snippets/importing_libraries.ipynb"
       }
      ]
     }
    }
   ]
  },
  {
   "cell_type": "markdown",
   "source": [
    "## Task B.2 - Introducing superposition"
   ],
   "metadata": {
    "id": "fEMi6lDBphL2",
    "pycharm": {
     "name": "#%% md\n"
    }
   }
  },
  {
   "cell_type": "code",
   "source": [],
   "metadata": {
    "id": "VIeNe33ypjh4",
    "pycharm": {
     "name": "#%%\n"
    }
   },
   "execution_count": null,
   "outputs": []
  },
  {
   "cell_type": "markdown",
   "source": [
    "# AI Assistance Disclosure\n",
    "\n",
    "Generally, ChatGPT was used to guide us in the debugging of code.\n",
    "\n",
    "**Per-Task Usage:**  \n",
    "- **Task 1:** ChatGPT helped with the interpretation of the printed output.\n",
    "\n",
    "Query: \"this is what is printed: Bell state vector: [0.707107+0.j 0. +0.j 0. +0.j 0.707107+0.j]\"\n",
    "\n",
    "Answer: \"Perfect ✅\n",
    "\n",
    "Your printed result\n",
    "\n",
    "[0.707107+0.j  0.      +0.j  0.      +0.j  0.707107+0.j]\n",
    "\n",
    "is exactly the state vector... since the first entry corresponds to\n",
    "∣00⟩, the last entry corresponds to ∣11⟩, and both have equal amplitude\n",
    "1/√2.\n",
    "\n",
    "So your implementation correctly produces the Bell state.\"\n",
    "\n",
    "- **Task 2:**\n",
    "\n",
    "Query: \"what is the output bit\"\n",
    "\n",
    "Answer: \"Good question — in the SWAP test, the output bit refers to the ancilla qubit (the extra qubit you add at the start of the circuit).\n",
    "\n",
    "How it works:...\"\n",
    "\n",
    "- **Bonus:**\n",
    "\n",
    "**Validation:** AI outputs were tested in the notebook, adapted to match variable names and environment, and checked with documentation and sample data to ensure correctness.\n",
    "\n"
   ],
   "metadata": {
    "id": "WAgit6Wcpj8l",
    "pycharm": {
     "name": "#%% md\n"
    }
   }
  }
 ]
}